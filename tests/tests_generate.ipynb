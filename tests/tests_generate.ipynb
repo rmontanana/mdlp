{
 "cells": [
  {
   "cell_type": "code",
   "execution_count": 1,
   "metadata": {},
   "outputs": [],
   "source": [
    "from sklearn.preprocessing import KBinsDiscretizer"
   ]
  },
  {
   "cell_type": "code",
   "execution_count": 2,
   "metadata": {},
   "outputs": [],
   "source": [
    "experiments = [\n",
    "    [0, 100, 1, 4, \"Q\"],\n",
    "    [0, 50, 1, 4, \"Q\"],\n",
    "    [0, 100, 1, 3, \"Q\"],\n",
    "    [0, 50, 1, 3, \"Q\"],\n",
    "    [0, 10, 1, 3, \"Q\"],\n",
    "    [0, 100, 1, 4, \"U\"],\n",
    "    [0, 50, 1, 4, \"U\"],\n",
    "    [0, 100, 1, 3, \"U\"],\n",
    "    [0, 50, 1, 3, \"U\"],\n",
    "    [0, 10, 1, 3, \"U\"],\n",
    "]"
   ]
  },
  {
   "cell_type": "code",
   "execution_count": 3,
   "metadata": {},
   "outputs": [],
   "source": [
    "with open(\"datasets/tests.txt\", \"w\") as file:\n",
    "    file.write(\"#\\n\")\n",
    "    file.write(\"# from, to, step, #bins, Q/U\\n\")\n",
    "    file.write(\"# discretized data\\n\")\n",
    "    file.write(\"# cut points\\n\")\n",
    "    file.write(\"#\\n\")\n",
    "    for experiment in experiments:\n",
    "        (from_, to_, step_, bins_, strategy) = experiment\n",
    "        disc = KBinsDiscretizer(n_bins=bins_, encode='ordinal', strategy='quantile' if strategy.strip() == \"Q\" else 'uniform')\n",
    "        data = [[x] for x in range(from_, to_, step_)]\n",
    "        disc.fit(data)\n",
    "        result = disc.transform(data)\n",
    "        file.write(f\"{from_}, {to_}, {step_}, {bins_}, {strategy}\\n\")\n",
    "        sep = \"\"\n",
    "        for res in result:\n",
    "            file.write(f\"{sep}{int(res):d}\")\n",
    "            sep= \", \"\n",
    "        file.write(\"\\n\")\n",
    "        sep = \"\"\n",
    "        for res in disc.bin_edges_[0]:\n",
    "            file.write(sep + str(round(res,5)))\n",
    "            sep = \", \"\n",
    "        file.write(\"\\n\")"
   ]
  }
 ],
 "metadata": {
  "kernelspec": {
   "display_name": "base",
   "language": "python",
   "name": "python3"
  },
  "language_info": {
   "codemirror_mode": {
    "name": "ipython",
    "version": 3
   },
   "file_extension": ".py",
   "mimetype": "text/x-python",
   "name": "python",
   "nbconvert_exporter": "python",
   "pygments_lexer": "ipython3",
   "version": "3.11.8"
  }
 },
 "nbformat": 4,
 "nbformat_minor": 2
}
